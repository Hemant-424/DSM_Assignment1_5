{
 "cells": [
  {
   "cell_type": "code",
   "execution_count": 79,
   "metadata": {},
   "outputs": [
    {
     "name": "stdout",
     "output_type": "stream",
     "text": [
      "-------------------------------------------------- start --------------------------------------------------\n"
     ]
    }
   ],
   "source": [
    "class Piggy_bank:\n",
    "    \n",
    "    print(\"-\"*50,\"start\",\"-\"*50)\n",
    "\n",
    "    def __init__(self):\n",
    "        self.money = 0\n",
    "        print(\"Hello!!!Welcome to Piggy_bank\")\n",
    "        \n",
    "    def add_money(self):\n",
    "        addmoney = float(input(\"Enter amount to be Deposited:\"))\n",
    "        self.money = self.money + addmoney\n",
    "        print(\"After adding, The available balance is {} rupees\".format(self.money))\n",
    "    \n",
    "    def withdrawal_money(self):\n",
    "        withdrawal = float(input(\"Enter amount to be Withdrawed:\"))\n",
    "        if (self.money > withdrawal):\n",
    "            self.money = self.money - withdrawal\n",
    "            print(\"After withdrawal,The available balance is {} rupees\".format(self.money))\n",
    "        else:\n",
    "            print(\"Insufficient balance\")\n",
    "        \n",
    "    \n",
    "    def check_balance(self):\n",
    "        print(\"Current balance in your account is {} rupees\".format(self.money))\n",
    "    "
   ]
  },
  {
   "cell_type": "code",
   "execution_count": 80,
   "metadata": {},
   "outputs": [
    {
     "name": "stdout",
     "output_type": "stream",
     "text": [
      "Hello!!!Welcome to Piggy_bank\n"
     ]
    }
   ],
   "source": [
    "user1 = Piggy_bank()\n"
   ]
  },
  {
   "cell_type": "code",
   "execution_count": 81,
   "metadata": {},
   "outputs": [
    {
     "name": "stdout",
     "output_type": "stream",
     "text": [
      "Current balance in your account is 0 rupees\n"
     ]
    }
   ],
   "source": [
    "user1.check_balance()"
   ]
  },
  {
   "cell_type": "code",
   "execution_count": 83,
   "metadata": {},
   "outputs": [
    {
     "name": "stdout",
     "output_type": "stream",
     "text": [
      "Enter amount to be Deposited:40000\n",
      "After adding, The available balance is 40000.0 rupees\n"
     ]
    }
   ],
   "source": [
    "user1.add_money()"
   ]
  },
  {
   "cell_type": "code",
   "execution_count": 86,
   "metadata": {},
   "outputs": [
    {
     "name": "stdout",
     "output_type": "stream",
     "text": [
      "Enter amount to be Withdrawed:400\n",
      "After withdrawal,The available balance is 39200.0 rupees\n"
     ]
    }
   ],
   "source": [
    "user1.withdrawal_money()"
   ]
  },
  {
   "cell_type": "code",
   "execution_count": 87,
   "metadata": {},
   "outputs": [
    {
     "name": "stdout",
     "output_type": "stream",
     "text": [
      "Current balance in your account is 39200.0 rupees\n"
     ]
    }
   ],
   "source": [
    "user1.check_balance()"
   ]
  },
  {
   "cell_type": "code",
   "execution_count": null,
   "metadata": {},
   "outputs": [],
   "source": []
  }
 ],
 "metadata": {
  "kernelspec": {
   "display_name": "Python 3",
   "language": "python",
   "name": "python3"
  },
  "language_info": {
   "codemirror_mode": {
    "name": "ipython",
    "version": 3
   },
   "file_extension": ".py",
   "mimetype": "text/x-python",
   "name": "python",
   "nbconvert_exporter": "python",
   "pygments_lexer": "ipython3",
   "version": "3.7.1"
  }
 },
 "nbformat": 4,
 "nbformat_minor": 2
}
